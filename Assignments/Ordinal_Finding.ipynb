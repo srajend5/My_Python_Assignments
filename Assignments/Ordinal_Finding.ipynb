{
 "cells": [
  {
   "cell_type": "code",
   "execution_count": 2,
   "metadata": {},
   "outputs": [
    {
     "name": "stdout",
     "output_type": "stream",
     "text": [
      "Enter the required string : sarathy\n",
      "Enter the index for which the ordinal has to be found out-1\n",
      "121\n"
     ]
    }
   ],
   "source": [
    "x = input(\"Enter the required string : \")\n",
    "z = int(input(\"Enter the index for which the ordinal has to be found out\"))\n",
    "y = ord(x[z])\n",
    "print(y)"
   ]
  }
 ],
 "metadata": {
  "kernelspec": {
   "display_name": "Python 3",
   "language": "python",
   "name": "python3"
  },
  "language_info": {
   "codemirror_mode": {
    "name": "ipython",
    "version": 3
   },
   "file_extension": ".py",
   "mimetype": "text/x-python",
   "name": "python",
   "nbconvert_exporter": "python",
   "pygments_lexer": "ipython3",
   "version": "3.7.6"
  }
 },
 "nbformat": 4,
 "nbformat_minor": 4
}
